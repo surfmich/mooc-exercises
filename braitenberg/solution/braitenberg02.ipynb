{
 "cells": [
  {
   "cell_type": "code",
   "execution_count": null,
   "id": "0bdb12f0",
   "metadata": {},
   "outputs": [],
   "source": [
    "%load_ext autoreload\n",
    "%autoreload 2\n",
    "%matplotlib inline\n",
    "%pylab inline\n",
    "import numpy as np\n",
    "import duckietown_code_utils as dcu;\n",
    "import cv2;\n",
    "%matplotlib inline\n",
    "%pylab inline"
   ]
  },
  {
   "cell_type": "markdown",
   "id": "3946303b",
   "metadata": {},
   "source": [
    "# Image filtering"
   ]
  },
  {
   "cell_type": "markdown",
   "id": "4064c443",
   "metadata": {},
   "source": [
    "Now we want to do some basic filtering of the images.\n",
    "\n",
    "In particular, let's say we want to avoid hitting duckies.\n",
    "\n",
    "We then need to highlight our duckies in the image."
   ]
  },
  {
   "cell_type": "markdown",
   "id": "9ff3a7e4",
   "metadata": {},
   "source": [
    "Let's load a test image."
   ]
  },
  {
   "cell_type": "code",
   "execution_count": null,
   "id": "b31d1828",
   "metadata": {},
   "outputs": [],
   "source": [
    "fn = '../samples/big-duck/big-duck-08.jpg' # experiment with different images!\n",
    "image = dcu.rgb_from_jpg_fn(fn)\n",
    "imshow(image);"
   ]
  },
  {
   "cell_type": "markdown",
   "id": "ba47bf30",
   "metadata": {},
   "source": [
    "Let's now convert it to [HSV color space](https://en.wikipedia.org/wiki/HSL_and_HSV) so that it is easier to filter by colors.\n"
   ]
  },
  {
   "cell_type": "code",
   "execution_count": null,
   "id": "5b577658",
   "metadata": {},
   "outputs": [],
   "source": [
    "hsv = cv2.cvtColor(image, cv2.COLOR_RGB2HSV)"
   ]
  },
  {
   "cell_type": "markdown",
   "id": "2531e7ea",
   "metadata": {},
   "source": [
    "In OpenCV, the convention is the following:\n",
    "\n",
    "* Hue is usually measured in degrees, 0 to 360, as shown in [this scale](./hue.png). However OpenCV uses a scale 0 to 179 - multiply by 2 to get the actual Hue in degree. (so to get a hue of 180 you have to tell 90 to OpenCV.\n",
    "* S and V are from 0 to 255."
   ]
  },
  {
   "cell_type": "markdown",
   "id": "be2bc672",
   "metadata": {},
   "source": [
    "We now apply a simple image processing technique to highlight the region corresponding to a certain color.\n",
    "\n",
    "\n",
    "We define a region in HSV space with the following lower/upper bounds:\n"
   ]
  },
  {
   "cell_type": "code",
   "execution_count": null,
   "id": "9acc9556",
   "metadata": {},
   "outputs": [],
   "source": [
    "lower_hsv = np.array([171, 140, 0])\n",
    "upper_hsv = np.array([179, 200, 255])"
   ]
  },
  {
   "cell_type": "markdown",
   "id": "501f790d",
   "metadata": {},
   "source": [
    "The two arrays have 3 components: H(ue), S(aturation), V(value).\n",
    "\n",
    "The first array are the lower bounds; the second array are the upper bounds.\n",
    "\n",
    "This means that we are going to select the pixels that have:\n",
    "\n",
    "* Hue between OpenCV value 171 and 179, which are regular Hue values 342 to 358.\n",
    "* Saturation between 140 and 200.\n",
    "* Value between 0 and 255.\n",
    "\n"
   ]
  },
  {
   "cell_type": "markdown",
   "id": "d0e2bcc4",
   "metadata": {},
   "source": [
    "The *hue* is closest to what we intuitively call \"color\" and the one to use to do simple processing.\n",
    "\n",
    "This is how to do the filtering of the image and show the result:"
   ]
  },
  {
   "cell_type": "code",
   "execution_count": null,
   "id": "91079d03",
   "metadata": {},
   "outputs": [],
   "source": [
    "# Returns a matrix of 0 or 1 that satisfy the constraint\n",
    "mask = cv2.inRange(hsv, lower_hsv, upper_hsv)\n",
    "\n",
    "# Get a \"masked image\"\n",
    "masked = cv2.bitwise_and(image, image, mask=mask)\n",
    "imshow(masked);"
   ]
  },
  {
   "cell_type": "markdown",
   "id": "24c93e6c",
   "metadata": {},
   "source": [
    "The bounds we put by default highlight the beak. But we want the yellow of the duckie!"
   ]
  },
  {
   "cell_type": "markdown",
   "id": "88f03111",
   "metadata": {},
   "source": [
    "## Activity\n",
    "\n",
    "Your task now is to change those numbers above so that we highlight the duckies.\n",
    "\n",
    "For this we suggest to use:\n",
    "\n",
    "1. [This online color picker](https://pinetools.com/image-color-picker) to click around and get familiar with what color corresponds to which HSV values. (You can use any other tool, the link is just for reference.)\n",
    "\n",
    "2. In the folder of this notebook there is a program called `HSV-bound.py` which will allow you to do this step interactively, [as shown in this video](https://vimeo.com/534995276).\n",
    "\n",
    "To get this interactive method running, open a terminal on your computer, **navigate to the exercise folder** (`mooc-exercises/braitenberg/`) and type:\n",
    "\n",
    "\n",
    "    dts start_gui_tools --vnc --mount $PWD:/braitenberg\n",
    "\n",
    "\n",
    "then follow the instructions on the terminal to get inside VNC. Once in VNC, open a LXterminal (icon on the Desktop), and run\n",
    "\n",
    "    python /braitenberg/solution/HSV-bound.py /braitenberg/samples/IMAGENAME\n",
    "\n",
    "where `IMAGENAME` (including the path and filetype, e.g., `/big-duck/big-duck-10.jpg`) is an image in one of the `samples` subfolders."
   ]
  },
  {
   "cell_type": "markdown",
   "id": "cfe6b598",
   "metadata": {},
   "source": [
    "For reference, this is how an end result would look like."
   ]
  },
  {
   "cell_type": "code",
   "execution_count": null,
   "id": "aee448ee",
   "metadata": {
    "scrolled": true
   },
   "outputs": [],
   "source": [
    "result = dcu.rgb_from_jpg_fn('../samples/result.jpg')\n",
    "imshow(result);"
   ]
  },
  {
   "cell_type": "markdown",
   "id": "e8e47bf6",
   "metadata": {},
   "source": [
    "After you have a satisfactory result, put your values in the file [preprocessing.py](./preprocessing.py)."
   ]
  },
  {
   "cell_type": "markdown",
   "id": "4cf5e3cd",
   "metadata": {},
   "source": [
    "Now go on to the [third notebook](braitenberg03.ipynb)."
   ]
  }
 ],
 "metadata": {
  "kernelspec": {
   "display_name": "Python 3",
   "language": "python",
   "name": "python3"
  },
  "language_info": {
   "codemirror_mode": {
    "name": "ipython",
    "version": 3
   },
   "file_extension": ".py",
   "mimetype": "text/x-python",
   "name": "python",
   "nbconvert_exporter": "python",
   "pygments_lexer": "ipython3",
   "version": "3.8.5"
  }
 },
 "nbformat": 4,
 "nbformat_minor": 5
}
